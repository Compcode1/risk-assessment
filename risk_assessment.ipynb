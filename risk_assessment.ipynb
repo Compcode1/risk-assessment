{
 "cells": [
  {
   "cell_type": "markdown",
   "metadata": {},
   "source": [
    "**INTRODUCTION**\n",
    "\n",
    "You work for an educational technology company that developed an application to help teachers automatically grade assignments. The application handles a wide range of data that it collects from academic institutions, instructors, parents, and students.\n",
    "\n",
    "Your team was alerted to a data leak of internal business plans on social media. An investigation by the team discovered that an employee accidentally shared those confidential documents with an external business partner. An audit into the leak is underway to determine how similar incidents can be avoided.\n",
    "\n",
    "A supervisor provided you with information regarding the leak. It appears that the principle of least privilege was not observed by employees at the company during a sales meeting. You have been asked to analyze the situation and find ways to prevent it from happening again.\n",
    "\n",
    "First, you'll need to evaluate details about the incident. Then, you'll review the controls in place to prevent data leaks. Next, you'll identify ways to improve information privacy at the company. Finally, you'll justify why you think your recommendations will make data handling at the company more secure.\n",
    "\n"
   ]
  },
  {
   "cell_type": "markdown",
   "metadata": {},
   "source": [
    "#### **Data Leak Worksheet**\n",
    "\n",
    "**Control:**\n",
    "Least privilege\n",
    "\n",
    "**Issue(s):**\n",
    "The data leak occurred because access to sensitive internal documents was not revoked after a meeting. Additionally, employees were given unnecessary access to materials outside their roles, leading to accidental exposure during a sales call.\n",
    "\n",
    "**Review:**\n",
    "NIST SP 800-53: AC-6 emphasizes granting users the minimum access required for their roles. It recommends role-based access controls, automatic revocation of access, activity logging, and regular privilege audits to ensure least privilege is effectively implemented.\n",
    "\n",
    "**Recommendation(s):**\n",
    "Implement role-based access controls (RBAC) to restrict access to sensitive resources based on user roles.\n",
    "Automate access expiration for shared files and folders to ensure timely revocation of access.\n",
    "\n",
    "**Justification:**\n",
    "\n",
    "RBAC ensures employees only access information necessary for their tasks, preventing overprivileged access. Automating access expiration reduces human error in revoking access after meetings, limiting the risk of unintentional data exposure. Both measures strengthen information privacy and minimize data leak risks.\n",
    "\n",
    "\n",
    "\n",
    "\n",
    "\n",
    "\n",
    "\n"
   ]
  }
 ],
 "metadata": {
  "language_info": {
   "name": "python"
  }
 },
 "nbformat": 4,
 "nbformat_minor": 2
}
